{
 "cells": [
  {
   "cell_type": "markdown",
   "metadata": {},
   "source": [
    "# Churn-Modelling\n",
    "\n",
    "A predictive churn model is a powerful tool for identifying which of your customers will stop engaging with your business. With that information, you can built retention strategies, discount offers, email campaigns, and more that keep your high-value customers buying."
   ]
  },
  {
   "cell_type": "markdown",
   "metadata": {},
   "source": [
    "## Data Preprocessing\n",
    "### Importing the libraries"
   ]
  },
  {
   "cell_type": "code",
   "execution_count": 1,
   "metadata": {
    "collapsed": true
   },
   "outputs": [],
   "source": [
    "import numpy as np\n",
    "import matplotlib.pyplot as plt\n",
    "import pandas as pd"
   ]
  },
  {
   "cell_type": "markdown",
   "metadata": {},
   "source": [
    "### Importing the dataset"
   ]
  },
  {
   "cell_type": "code",
   "execution_count": 2,
   "metadata": {
    "collapsed": true
   },
   "outputs": [],
   "source": [
    "dataset = pd.read_csv('Churn_Modelling.csv')\n",
    "X = dataset.iloc[:, 3:13].values\n",
    "y = dataset.iloc[:, 13].values"
   ]
  },
  {
   "cell_type": "code",
   "execution_count": 3,
   "metadata": {
    "scrolled": false
   },
   "outputs": [
    {
     "data": {
      "text/html": [
       "<div>\n",
       "<style>\n",
       "    .dataframe thead tr:only-child th {\n",
       "        text-align: right;\n",
       "    }\n",
       "\n",
       "    .dataframe thead th {\n",
       "        text-align: left;\n",
       "    }\n",
       "\n",
       "    .dataframe tbody tr th {\n",
       "        vertical-align: top;\n",
       "    }\n",
       "</style>\n",
       "<table border=\"1\" class=\"dataframe\">\n",
       "  <thead>\n",
       "    <tr style=\"text-align: right;\">\n",
       "      <th></th>\n",
       "      <th>RowNumber</th>\n",
       "      <th>CustomerId</th>\n",
       "      <th>Surname</th>\n",
       "      <th>CreditScore</th>\n",
       "      <th>Geography</th>\n",
       "      <th>Gender</th>\n",
       "      <th>Age</th>\n",
       "      <th>Tenure</th>\n",
       "      <th>Balance</th>\n",
       "      <th>NumOfProducts</th>\n",
       "      <th>HasCrCard</th>\n",
       "      <th>IsActiveMember</th>\n",
       "      <th>EstimatedSalary</th>\n",
       "      <th>Exited</th>\n",
       "    </tr>\n",
       "  </thead>\n",
       "  <tbody>\n",
       "    <tr>\n",
       "      <th>0</th>\n",
       "      <td>1</td>\n",
       "      <td>15634602</td>\n",
       "      <td>Hargrave</td>\n",
       "      <td>619</td>\n",
       "      <td>France</td>\n",
       "      <td>Female</td>\n",
       "      <td>42</td>\n",
       "      <td>2</td>\n",
       "      <td>0.00</td>\n",
       "      <td>1</td>\n",
       "      <td>1</td>\n",
       "      <td>1</td>\n",
       "      <td>101348.88</td>\n",
       "      <td>1</td>\n",
       "    </tr>\n",
       "    <tr>\n",
       "      <th>1</th>\n",
       "      <td>2</td>\n",
       "      <td>15647311</td>\n",
       "      <td>Hill</td>\n",
       "      <td>608</td>\n",
       "      <td>Spain</td>\n",
       "      <td>Female</td>\n",
       "      <td>41</td>\n",
       "      <td>1</td>\n",
       "      <td>83807.86</td>\n",
       "      <td>1</td>\n",
       "      <td>0</td>\n",
       "      <td>1</td>\n",
       "      <td>112542.58</td>\n",
       "      <td>0</td>\n",
       "    </tr>\n",
       "    <tr>\n",
       "      <th>2</th>\n",
       "      <td>3</td>\n",
       "      <td>15619304</td>\n",
       "      <td>Onio</td>\n",
       "      <td>502</td>\n",
       "      <td>France</td>\n",
       "      <td>Female</td>\n",
       "      <td>42</td>\n",
       "      <td>8</td>\n",
       "      <td>159660.80</td>\n",
       "      <td>3</td>\n",
       "      <td>1</td>\n",
       "      <td>0</td>\n",
       "      <td>113931.57</td>\n",
       "      <td>1</td>\n",
       "    </tr>\n",
       "    <tr>\n",
       "      <th>3</th>\n",
       "      <td>4</td>\n",
       "      <td>15701354</td>\n",
       "      <td>Boni</td>\n",
       "      <td>699</td>\n",
       "      <td>France</td>\n",
       "      <td>Female</td>\n",
       "      <td>39</td>\n",
       "      <td>1</td>\n",
       "      <td>0.00</td>\n",
       "      <td>2</td>\n",
       "      <td>0</td>\n",
       "      <td>0</td>\n",
       "      <td>93826.63</td>\n",
       "      <td>0</td>\n",
       "    </tr>\n",
       "    <tr>\n",
       "      <th>4</th>\n",
       "      <td>5</td>\n",
       "      <td>15737888</td>\n",
       "      <td>Mitchell</td>\n",
       "      <td>850</td>\n",
       "      <td>Spain</td>\n",
       "      <td>Female</td>\n",
       "      <td>43</td>\n",
       "      <td>2</td>\n",
       "      <td>125510.82</td>\n",
       "      <td>1</td>\n",
       "      <td>1</td>\n",
       "      <td>1</td>\n",
       "      <td>79084.10</td>\n",
       "      <td>0</td>\n",
       "    </tr>\n",
       "  </tbody>\n",
       "</table>\n",
       "</div>"
      ],
      "text/plain": [
       "   RowNumber  CustomerId   Surname  CreditScore Geography  Gender  Age  \\\n",
       "0          1    15634602  Hargrave          619    France  Female   42   \n",
       "1          2    15647311      Hill          608     Spain  Female   41   \n",
       "2          3    15619304      Onio          502    France  Female   42   \n",
       "3          4    15701354      Boni          699    France  Female   39   \n",
       "4          5    15737888  Mitchell          850     Spain  Female   43   \n",
       "\n",
       "   Tenure    Balance  NumOfProducts  HasCrCard  IsActiveMember  \\\n",
       "0       2       0.00              1          1               1   \n",
       "1       1   83807.86              1          0               1   \n",
       "2       8  159660.80              3          1               0   \n",
       "3       1       0.00              2          0               0   \n",
       "4       2  125510.82              1          1               1   \n",
       "\n",
       "   EstimatedSalary  Exited  \n",
       "0        101348.88       1  \n",
       "1        112542.58       0  \n",
       "2        113931.57       1  \n",
       "3         93826.63       0  \n",
       "4         79084.10       0  "
      ]
     },
     "execution_count": 3,
     "metadata": {},
     "output_type": "execute_result"
    }
   ],
   "source": [
    "dataset.head()"
   ]
  },
  {
   "cell_type": "code",
   "execution_count": 4,
   "metadata": {},
   "outputs": [
    {
     "name": "stdout",
     "output_type": "stream",
     "text": [
      "[[619 'France' 'Female' ... 1 1 101348.88]\n",
      " [608 'Spain' 'Female' ... 0 1 112542.58]\n",
      " [502 'France' 'Female' ... 1 0 113931.57]\n",
      " ...\n",
      " [709 'France' 'Female' ... 0 1 42085.58]\n",
      " [772 'Germany' 'Male' ... 1 0 92888.52]\n",
      " [792 'France' 'Female' ... 1 0 38190.78]]\n",
      "\n",
      "\n",
      "[1 0 1 ... 1 1 0]\n"
     ]
    }
   ],
   "source": [
    "print(X)\n",
    "print('\\n')\n",
    "print(y)"
   ]
  },
  {
   "cell_type": "markdown",
   "metadata": {},
   "source": [
    "### Encoding categorical data (Geography, Gender)"
   ]
  },
  {
   "cell_type": "code",
   "execution_count": 5,
   "metadata": {
    "collapsed": true
   },
   "outputs": [],
   "source": [
    "from sklearn.preprocessing import LabelEncoder, OneHotEncoder\n",
    "labelencoder_X_1 = LabelEncoder()\n",
    "X[:, 1] = labelencoder_X_1.fit_transform(X[:, 1])\n",
    "labelencoder_X_2 = LabelEncoder()\n",
    "X[:, 2] = labelencoder_X_2.fit_transform(X[:, 2])\n",
    "onehotencoder = OneHotEncoder(categorical_features = [1])\n",
    "X = onehotencoder.fit_transform(X).toarray()\n",
    "X = X[:, 1:]"
   ]
  },
  {
   "cell_type": "code",
   "execution_count": 6,
   "metadata": {},
   "outputs": [
    {
     "name": "stdout",
     "output_type": "stream",
     "text": [
      "X -> [[0.0000000e+00 0.0000000e+00 6.1900000e+02 ... 1.0000000e+00\n",
      "  1.0000000e+00 1.0134888e+05]\n",
      " [0.0000000e+00 1.0000000e+00 6.0800000e+02 ... 0.0000000e+00\n",
      "  1.0000000e+00 1.1254258e+05]\n",
      " [0.0000000e+00 0.0000000e+00 5.0200000e+02 ... 1.0000000e+00\n",
      "  0.0000000e+00 1.1393157e+05]\n",
      " ...\n",
      " [0.0000000e+00 0.0000000e+00 7.0900000e+02 ... 0.0000000e+00\n",
      "  1.0000000e+00 4.2085580e+04]\n",
      " [1.0000000e+00 0.0000000e+00 7.7200000e+02 ... 1.0000000e+00\n",
      "  0.0000000e+00 9.2888520e+04]\n",
      " [0.0000000e+00 0.0000000e+00 7.9200000e+02 ... 1.0000000e+00\n",
      "  0.0000000e+00 3.8190780e+04]]\n",
      "\n",
      "\n",
      "y -> [1 0 1 ... 1 1 0]\n"
     ]
    }
   ],
   "source": [
    "print(\"X -> {}\".format(X))\n",
    "print('\\n')\n",
    "print(\"y -> {}\".format(y))"
   ]
  },
  {
   "cell_type": "markdown",
   "metadata": {},
   "source": [
    "## Exploratory Data Analysis"
   ]
  },
  {
   "cell_type": "markdown",
   "metadata": {},
   "source": [
    "### Statistical Description of the dataset"
   ]
  },
  {
   "cell_type": "code",
   "execution_count": 7,
   "metadata": {},
   "outputs": [
    {
     "data": {
      "text/html": [
       "<div>\n",
       "<style>\n",
       "    .dataframe thead tr:only-child th {\n",
       "        text-align: right;\n",
       "    }\n",
       "\n",
       "    .dataframe thead th {\n",
       "        text-align: left;\n",
       "    }\n",
       "\n",
       "    .dataframe tbody tr th {\n",
       "        vertical-align: top;\n",
       "    }\n",
       "</style>\n",
       "<table border=\"1\" class=\"dataframe\">\n",
       "  <thead>\n",
       "    <tr style=\"text-align: right;\">\n",
       "      <th></th>\n",
       "      <th>RowNumber</th>\n",
       "      <th>CustomerId</th>\n",
       "      <th>CreditScore</th>\n",
       "      <th>Age</th>\n",
       "      <th>Tenure</th>\n",
       "      <th>Balance</th>\n",
       "      <th>NumOfProducts</th>\n",
       "      <th>HasCrCard</th>\n",
       "      <th>IsActiveMember</th>\n",
       "      <th>EstimatedSalary</th>\n",
       "      <th>Exited</th>\n",
       "    </tr>\n",
       "  </thead>\n",
       "  <tbody>\n",
       "    <tr>\n",
       "      <th>count</th>\n",
       "      <td>10000.00000</td>\n",
       "      <td>1.000000e+04</td>\n",
       "      <td>10000.000000</td>\n",
       "      <td>10000.000000</td>\n",
       "      <td>10000.000000</td>\n",
       "      <td>10000.000000</td>\n",
       "      <td>10000.000000</td>\n",
       "      <td>10000.00000</td>\n",
       "      <td>10000.000000</td>\n",
       "      <td>10000.000000</td>\n",
       "      <td>10000.000000</td>\n",
       "    </tr>\n",
       "    <tr>\n",
       "      <th>mean</th>\n",
       "      <td>5000.50000</td>\n",
       "      <td>1.569094e+07</td>\n",
       "      <td>650.528800</td>\n",
       "      <td>38.921800</td>\n",
       "      <td>5.012800</td>\n",
       "      <td>76485.889288</td>\n",
       "      <td>1.530200</td>\n",
       "      <td>0.70550</td>\n",
       "      <td>0.515100</td>\n",
       "      <td>100090.239881</td>\n",
       "      <td>0.203700</td>\n",
       "    </tr>\n",
       "    <tr>\n",
       "      <th>std</th>\n",
       "      <td>2886.89568</td>\n",
       "      <td>7.193619e+04</td>\n",
       "      <td>96.653299</td>\n",
       "      <td>10.487806</td>\n",
       "      <td>2.892174</td>\n",
       "      <td>62397.405202</td>\n",
       "      <td>0.581654</td>\n",
       "      <td>0.45584</td>\n",
       "      <td>0.499797</td>\n",
       "      <td>57510.492818</td>\n",
       "      <td>0.402769</td>\n",
       "    </tr>\n",
       "    <tr>\n",
       "      <th>min</th>\n",
       "      <td>1.00000</td>\n",
       "      <td>1.556570e+07</td>\n",
       "      <td>350.000000</td>\n",
       "      <td>18.000000</td>\n",
       "      <td>0.000000</td>\n",
       "      <td>0.000000</td>\n",
       "      <td>1.000000</td>\n",
       "      <td>0.00000</td>\n",
       "      <td>0.000000</td>\n",
       "      <td>11.580000</td>\n",
       "      <td>0.000000</td>\n",
       "    </tr>\n",
       "    <tr>\n",
       "      <th>25%</th>\n",
       "      <td>2500.75000</td>\n",
       "      <td>1.562853e+07</td>\n",
       "      <td>584.000000</td>\n",
       "      <td>32.000000</td>\n",
       "      <td>3.000000</td>\n",
       "      <td>0.000000</td>\n",
       "      <td>1.000000</td>\n",
       "      <td>0.00000</td>\n",
       "      <td>0.000000</td>\n",
       "      <td>51002.110000</td>\n",
       "      <td>0.000000</td>\n",
       "    </tr>\n",
       "    <tr>\n",
       "      <th>50%</th>\n",
       "      <td>5000.50000</td>\n",
       "      <td>1.569074e+07</td>\n",
       "      <td>652.000000</td>\n",
       "      <td>37.000000</td>\n",
       "      <td>5.000000</td>\n",
       "      <td>97198.540000</td>\n",
       "      <td>1.000000</td>\n",
       "      <td>1.00000</td>\n",
       "      <td>1.000000</td>\n",
       "      <td>100193.915000</td>\n",
       "      <td>0.000000</td>\n",
       "    </tr>\n",
       "    <tr>\n",
       "      <th>75%</th>\n",
       "      <td>7500.25000</td>\n",
       "      <td>1.575323e+07</td>\n",
       "      <td>718.000000</td>\n",
       "      <td>44.000000</td>\n",
       "      <td>7.000000</td>\n",
       "      <td>127644.240000</td>\n",
       "      <td>2.000000</td>\n",
       "      <td>1.00000</td>\n",
       "      <td>1.000000</td>\n",
       "      <td>149388.247500</td>\n",
       "      <td>0.000000</td>\n",
       "    </tr>\n",
       "    <tr>\n",
       "      <th>max</th>\n",
       "      <td>10000.00000</td>\n",
       "      <td>1.581569e+07</td>\n",
       "      <td>850.000000</td>\n",
       "      <td>92.000000</td>\n",
       "      <td>10.000000</td>\n",
       "      <td>250898.090000</td>\n",
       "      <td>4.000000</td>\n",
       "      <td>1.00000</td>\n",
       "      <td>1.000000</td>\n",
       "      <td>199992.480000</td>\n",
       "      <td>1.000000</td>\n",
       "    </tr>\n",
       "  </tbody>\n",
       "</table>\n",
       "</div>"
      ],
      "text/plain": [
       "         RowNumber    CustomerId   CreditScore           Age        Tenure  \\\n",
       "count  10000.00000  1.000000e+04  10000.000000  10000.000000  10000.000000   \n",
       "mean    5000.50000  1.569094e+07    650.528800     38.921800      5.012800   \n",
       "std     2886.89568  7.193619e+04     96.653299     10.487806      2.892174   \n",
       "min        1.00000  1.556570e+07    350.000000     18.000000      0.000000   \n",
       "25%     2500.75000  1.562853e+07    584.000000     32.000000      3.000000   \n",
       "50%     5000.50000  1.569074e+07    652.000000     37.000000      5.000000   \n",
       "75%     7500.25000  1.575323e+07    718.000000     44.000000      7.000000   \n",
       "max    10000.00000  1.581569e+07    850.000000     92.000000     10.000000   \n",
       "\n",
       "             Balance  NumOfProducts    HasCrCard  IsActiveMember  \\\n",
       "count   10000.000000   10000.000000  10000.00000    10000.000000   \n",
       "mean    76485.889288       1.530200      0.70550        0.515100   \n",
       "std     62397.405202       0.581654      0.45584        0.499797   \n",
       "min         0.000000       1.000000      0.00000        0.000000   \n",
       "25%         0.000000       1.000000      0.00000        0.000000   \n",
       "50%     97198.540000       1.000000      1.00000        1.000000   \n",
       "75%    127644.240000       2.000000      1.00000        1.000000   \n",
       "max    250898.090000       4.000000      1.00000        1.000000   \n",
       "\n",
       "       EstimatedSalary        Exited  \n",
       "count     10000.000000  10000.000000  \n",
       "mean     100090.239881      0.203700  \n",
       "std       57510.492818      0.402769  \n",
       "min          11.580000      0.000000  \n",
       "25%       51002.110000      0.000000  \n",
       "50%      100193.915000      0.000000  \n",
       "75%      149388.247500      0.000000  \n",
       "max      199992.480000      1.000000  "
      ]
     },
     "execution_count": 7,
     "metadata": {},
     "output_type": "execute_result"
    }
   ],
   "source": [
    "dataset.describe()"
   ]
  },
  {
   "cell_type": "code",
   "execution_count": 8,
   "metadata": {},
   "outputs": [
    {
     "data": {
      "text/plain": [
       "Index(['RowNumber', 'CustomerId', 'Surname', 'CreditScore', 'Geography',\n",
       "       'Gender', 'Age', 'Tenure', 'Balance', 'NumOfProducts', 'HasCrCard',\n",
       "       'IsActiveMember', 'EstimatedSalary', 'Exited'],\n",
       "      dtype='object')"
      ]
     },
     "execution_count": 8,
     "metadata": {},
     "output_type": "execute_result"
    }
   ],
   "source": [
    "dataset.columns"
   ]
  },
  {
   "cell_type": "markdown",
   "metadata": {},
   "source": [
    "## Geographical Analysis\n",
    "![Map](tableau/graphs/map.png)\n",
    "\n",
    "![country](tableau/graphs/country.png)\n",
    "\n",
    "Germany looses most of the customers, company must look into it."
   ]
  },
  {
   "cell_type": "markdown",
   "metadata": {},
   "source": [
    "## Gender\n",
    "![Gender](tableau/graphs/gender.png)\n",
    "\n",
    "Females customers are more likely to leave the bank."
   ]
  },
  {
   "cell_type": "markdown",
   "metadata": {},
   "source": [
    "## Based on Activity\n",
    "![Active](tableau/graphs/active.png)"
   ]
  },
  {
   "cell_type": "markdown",
   "metadata": {},
   "source": [
    "## Based on number of products used\n",
    "![Products](tableau/graphs/products.png)"
   ]
  },
  {
   "cell_type": "markdown",
   "metadata": {},
   "source": [
    "## Age\n",
    "![Age](tableau/graphs/age.png)\n",
    "\n",
    "High churn rate among customers of age 45-60."
   ]
  },
  {
   "cell_type": "markdown",
   "metadata": {},
   "source": [
    "## Balance\n",
    "![Balance](tableau/graphs/balance.png)\n",
    "\n",
    "Balance is not creating a significant impact on churn."
   ]
  },
  {
   "cell_type": "markdown",
   "metadata": {},
   "source": [
    "## Credit Score\n",
    "![CreditScore](tableau/graphs/creditScore.png)\n",
    "\n",
    "Credit Score is not creating a significant impact on churn."
   ]
  },
  {
   "cell_type": "markdown",
   "metadata": {},
   "source": [
    "### Splitting the dataset into the Training set and Test set"
   ]
  },
  {
   "cell_type": "code",
   "execution_count": 12,
   "metadata": {
    "collapsed": true
   },
   "outputs": [],
   "source": [
    "from sklearn.model_selection import train_test_split\n",
    "X_train, X_test, y_train, y_test = train_test_split(X, y, test_size = 0.2, random_state = 0)"
   ]
  },
  {
   "cell_type": "markdown",
   "metadata": {},
   "source": [
    "### Feature Scaling"
   ]
  },
  {
   "cell_type": "code",
   "execution_count": 13,
   "metadata": {
    "collapsed": true
   },
   "outputs": [],
   "source": [
    "from sklearn.preprocessing import StandardScaler\n",
    "sc = StandardScaler()\n",
    "X_train = sc.fit_transform(X_train)\n",
    "X_test = sc.transform(X_test)"
   ]
  },
  {
   "cell_type": "code",
   "execution_count": 14,
   "metadata": {},
   "outputs": [
    {
     "name": "stdout",
     "output_type": "stream",
     "text": [
      "[[-0.5698444   1.74309049  0.16958176 ...  0.64259497 -1.03227043\n",
      "   1.10643166]\n",
      " [ 1.75486502 -0.57369368 -2.30455945 ...  0.64259497  0.9687384\n",
      "  -0.74866447]\n",
      " [-0.5698444  -0.57369368 -1.19119591 ...  0.64259497 -1.03227043\n",
      "   1.48533467]\n",
      " ...\n",
      " [-0.5698444  -0.57369368  0.9015152  ...  0.64259497 -1.03227043\n",
      "   1.41231994]\n",
      " [-0.5698444   1.74309049 -0.62420521 ...  0.64259497  0.9687384\n",
      "   0.84432121]\n",
      " [ 1.75486502 -0.57369368 -0.28401079 ...  0.64259497 -1.03227043\n",
      "   0.32472465]]\n"
     ]
    }
   ],
   "source": [
    "print(X_train)"
   ]
  },
  {
   "cell_type": "markdown",
   "metadata": {},
   "source": [
    "# Applying various machine learning algorithms"
   ]
  },
  {
   "cell_type": "markdown",
   "metadata": {},
   "source": [
    "## Deploying Logistic Regression"
   ]
  },
  {
   "cell_type": "code",
   "execution_count": 15,
   "metadata": {
    "collapsed": true
   },
   "outputs": [],
   "source": [
    "from sklearn.linear_model import LogisticRegression\n",
    "lr_classifier = LogisticRegression()\n",
    "lr_classifier.fit(X_train, y_train)\n",
    "y_lr_pred = lr_classifier.predict(X_test)"
   ]
  },
  {
   "cell_type": "code",
   "execution_count": 16,
   "metadata": {},
   "outputs": [
    {
     "name": "stdout",
     "output_type": "stream",
     "text": [
      "confusion_matrix:\n",
      " [[1526   69]\n",
      " [ 309   96]]\n",
      "\n",
      "classification_report: \n",
      "              precision    recall  f1-score   support\n",
      "\n",
      "          0       0.83      0.96      0.89      1595\n",
      "          1       0.58      0.24      0.34       405\n",
      "\n",
      "avg / total       0.78      0.81      0.78      2000\n",
      "\n"
     ]
    }
   ],
   "source": [
    "from sklearn.metrics import classification_report, confusion_matrix\n",
    "print(\"confusion_matrix:\\n {}\".format(confusion_matrix(y_test, y_lr_pred)))\n",
    "print(\"\\nclassification_report: \\n {}\".format(classification_report(y_test, y_lr_pred)))"
   ]
  },
  {
   "cell_type": "markdown",
   "metadata": {},
   "source": [
    "## Deploying Support Vector Machine Classifier"
   ]
  },
  {
   "cell_type": "code",
   "execution_count": 17,
   "metadata": {
    "collapsed": true
   },
   "outputs": [],
   "source": [
    "from sklearn.svm import SVC\n",
    "svm_classifier = SVC()\n",
    "svm_classifier.fit(X_train, y_train)\n",
    "y_svm_pred = svm_classifier.predict(X_test)"
   ]
  },
  {
   "cell_type": "code",
   "execution_count": 18,
   "metadata": {},
   "outputs": [
    {
     "name": "stdout",
     "output_type": "stream",
     "text": [
      "confusion_matrix:\n",
      " [[1547   48]\n",
      " [ 225  180]]\n",
      "\n",
      "classification_report: \n",
      "              precision    recall  f1-score   support\n",
      "\n",
      "          0       0.87      0.97      0.92      1595\n",
      "          1       0.79      0.44      0.57       405\n",
      "\n",
      "avg / total       0.86      0.86      0.85      2000\n",
      "\n"
     ]
    }
   ],
   "source": [
    "from sklearn.metrics import classification_report, confusion_matrix\n",
    "print(\"confusion_matrix:\\n {}\".format(confusion_matrix(y_test, y_svm_pred)))\n",
    "print(\"\\nclassification_report: \\n {}\".format(classification_report(y_test, y_svm_pred)))"
   ]
  },
  {
   "cell_type": "markdown",
   "metadata": {},
   "source": [
    "## Deploying Random Forest Classifier"
   ]
  },
  {
   "cell_type": "code",
   "execution_count": 19,
   "metadata": {
    "collapsed": true
   },
   "outputs": [],
   "source": [
    "from sklearn.ensemble import RandomForestClassifier\n",
    "Rf_classifier = RandomForestClassifier()\n",
    "Rf_classifier.fit(X_train, y_train)\n",
    "y_rf_pred = Rf_classifier.predict(X_test)"
   ]
  },
  {
   "cell_type": "code",
   "execution_count": 20,
   "metadata": {},
   "outputs": [
    {
     "name": "stdout",
     "output_type": "stream",
     "text": [
      "confusion_matrix:\n",
      " [[1525   70]\n",
      " [ 208  197]]\n",
      "\n",
      "classification_report: \n",
      "              precision    recall  f1-score   support\n",
      "\n",
      "          0       0.88      0.96      0.92      1595\n",
      "          1       0.74      0.49      0.59       405\n",
      "\n",
      "avg / total       0.85      0.86      0.85      2000\n",
      "\n"
     ]
    }
   ],
   "source": [
    "from sklearn.metrics import classification_report, confusion_matrix\n",
    "print(\"confusion_matrix:\\n {}\".format(confusion_matrix(y_test, y_rf_pred)))\n",
    "print(\"\\nclassification_report: \\n {}\".format(classification_report(y_test, y_rf_pred)))"
   ]
  },
  {
   "cell_type": "markdown",
   "metadata": {},
   "source": [
    "## Building an Artificial Neural Network"
   ]
  },
  {
   "cell_type": "code",
   "execution_count": 21,
   "metadata": {},
   "outputs": [
    {
     "name": "stderr",
     "output_type": "stream",
     "text": [
      "/home/shivang/anaconda3/lib/python3.6/site-packages/h5py/__init__.py:34: FutureWarning: Conversion of the second argument of issubdtype from `float` to `np.floating` is deprecated. In future, it will be treated as `np.float64 == np.dtype(float).type`.\n",
      "  from ._conv import register_converters as _register_converters\n",
      "Using TensorFlow backend.\n"
     ]
    }
   ],
   "source": [
    "# Importing the Keras libraries and packages\n",
    "import keras\n",
    "from keras.models import Sequential\n",
    "from keras.layers import Dense"
   ]
  },
  {
   "cell_type": "code",
   "execution_count": 22,
   "metadata": {
    "collapsed": true
   },
   "outputs": [],
   "source": [
    "# Initialising the ANN\n",
    "classifier = Sequential()"
   ]
  },
  {
   "cell_type": "code",
   "execution_count": 23,
   "metadata": {
    "collapsed": true
   },
   "outputs": [],
   "source": [
    "# Adding the input layer and the first hidden layer\n",
    "classifier.add(Dense(units = 6, kernel_initializer = 'uniform', activation = 'relu', input_dim = 11))\n",
    "\n",
    "# Adding the second hidden layer\n",
    "classifier.add(Dense(units = 6, kernel_initializer = 'uniform', activation = 'relu'))\n",
    "\n",
    "# Adding the output layer\n",
    "classifier.add(Dense(units = 1, kernel_initializer = 'uniform', activation = 'sigmoid'))\n"
   ]
  },
  {
   "cell_type": "markdown",
   "metadata": {},
   "source": [
    "## Training the ANN"
   ]
  },
  {
   "cell_type": "code",
   "execution_count": 24,
   "metadata": {
    "collapsed": true
   },
   "outputs": [],
   "source": [
    "# Compiling the ANN\n",
    "classifier.compile(optimizer = 'adam', loss = 'binary_crossentropy', metrics = ['accuracy'])"
   ]
  },
  {
   "cell_type": "code",
   "execution_count": 25,
   "metadata": {
    "scrolled": true
   },
   "outputs": [
    {
     "name": "stdout",
     "output_type": "stream",
     "text": [
      "Epoch 1/100\n",
      "8000/8000 [==============================] - 1s 110us/step - loss: 0.4912 - acc: 0.7954\n",
      "Epoch 2/100\n",
      "8000/8000 [==============================] - 1s 77us/step - loss: 0.4266 - acc: 0.7960\n",
      "Epoch 3/100\n",
      "8000/8000 [==============================] - 1s 84us/step - loss: 0.4204 - acc: 0.8091\n",
      "Epoch 4/100\n",
      "8000/8000 [==============================] - 1s 76us/step - loss: 0.4146 - acc: 0.8259\n",
      "Epoch 5/100\n",
      "8000/8000 [==============================] - 1s 77us/step - loss: 0.4107 - acc: 0.8305\n",
      "Epoch 6/100\n",
      "8000/8000 [==============================] - 1s 74us/step - loss: 0.4071 - acc: 0.8335\n",
      "Epoch 7/100\n",
      "8000/8000 [==============================] - 1s 76us/step - loss: 0.4048 - acc: 0.8335\n",
      "Epoch 8/100\n",
      "8000/8000 [==============================] - 1s 93us/step - loss: 0.4030 - acc: 0.8332\n",
      "Epoch 9/100\n",
      "8000/8000 [==============================] - 1s 160us/step - loss: 0.4015 - acc: 0.8336\n",
      "Epoch 10/100\n",
      "8000/8000 [==============================] - 1s 111us/step - loss: 0.4006 - acc: 0.8341\n",
      "Epoch 11/100\n",
      "8000/8000 [==============================] - 1s 149us/step - loss: 0.3995 - acc: 0.8344\n",
      "Epoch 12/100\n",
      "8000/8000 [==============================] - 1s 136us/step - loss: 0.3987 - acc: 0.8350\n",
      "Epoch 13/100\n",
      "8000/8000 [==============================] - 1s 96us/step - loss: 0.3984 - acc: 0.8351\n",
      "Epoch 14/100\n",
      "8000/8000 [==============================] - 1s 104us/step - loss: 0.3981 - acc: 0.8341\n",
      "Epoch 15/100\n",
      "8000/8000 [==============================] - 1s 96us/step - loss: 0.3976 - acc: 0.8354\n",
      "Epoch 16/100\n",
      "8000/8000 [==============================] - 1s 106us/step - loss: 0.3979 - acc: 0.8355\n",
      "Epoch 17/100\n",
      "8000/8000 [==============================] - 1s 132us/step - loss: 0.3970 - acc: 0.8350\n",
      "Epoch 18/100\n",
      "8000/8000 [==============================] - 1s 84us/step - loss: 0.3968 - acc: 0.8347\n",
      "Epoch 19/100\n",
      "8000/8000 [==============================] - 1s 74us/step - loss: 0.3963 - acc: 0.8341\n",
      "Epoch 20/100\n",
      "8000/8000 [==============================] - 1s 74us/step - loss: 0.3964 - acc: 0.8345\n",
      "Epoch 21/100\n",
      "8000/8000 [==============================] - 1s 81us/step - loss: 0.3964 - acc: 0.8351\n",
      "Epoch 22/100\n",
      "8000/8000 [==============================] - 1s 76us/step - loss: 0.3962 - acc: 0.8342\n",
      "Epoch 23/100\n",
      "8000/8000 [==============================] - 1s 76us/step - loss: 0.3959 - acc: 0.8362\n",
      "Epoch 24/100\n",
      "8000/8000 [==============================] - 1s 74us/step - loss: 0.3959 - acc: 0.8349\n",
      "Epoch 25/100\n",
      "8000/8000 [==============================] - 1s 75us/step - loss: 0.3957 - acc: 0.8342\n",
      "Epoch 26/100\n",
      "8000/8000 [==============================] - 1s 75us/step - loss: 0.3957 - acc: 0.8355\n",
      "Epoch 27/100\n",
      "8000/8000 [==============================] - 1s 80us/step - loss: 0.3954 - acc: 0.8345\n",
      "Epoch 28/100\n",
      "8000/8000 [==============================] - 1s 75us/step - loss: 0.3951 - acc: 0.8340\n",
      "Epoch 29/100\n",
      "8000/8000 [==============================] - 1s 74us/step - loss: 0.3946 - acc: 0.8361\n",
      "Epoch 30/100\n",
      "8000/8000 [==============================] - 1s 74us/step - loss: 0.3947 - acc: 0.8361\n",
      "Epoch 31/100\n",
      "8000/8000 [==============================] - 1s 74us/step - loss: 0.3944 - acc: 0.8360\n",
      "Epoch 32/100\n",
      "8000/8000 [==============================] - 1s 74us/step - loss: 0.3947 - acc: 0.8370\n",
      "Epoch 33/100\n",
      "8000/8000 [==============================] - 1s 76us/step - loss: 0.3940 - acc: 0.8390\n",
      "Epoch 34/100\n",
      "8000/8000 [==============================] - 1s 78us/step - loss: 0.3944 - acc: 0.8356\n",
      "Epoch 35/100\n",
      "8000/8000 [==============================] - 1s 74us/step - loss: 0.3940 - acc: 0.8361\n",
      "Epoch 36/100\n",
      "8000/8000 [==============================] - 1s 74us/step - loss: 0.3936 - acc: 0.8386\n",
      "Epoch 37/100\n",
      "8000/8000 [==============================] - 1s 74us/step - loss: 0.3942 - acc: 0.8364\n",
      "Epoch 38/100\n",
      "8000/8000 [==============================] - 1s 79us/step - loss: 0.3934 - acc: 0.8380\n",
      "Epoch 39/100\n",
      "8000/8000 [==============================] - 1s 74us/step - loss: 0.3934 - acc: 0.8381\n",
      "Epoch 40/100\n",
      "8000/8000 [==============================] - 1s 75us/step - loss: 0.3931 - acc: 0.8375\n",
      "Epoch 41/100\n",
      "8000/8000 [==============================] - 1s 74us/step - loss: 0.3928 - acc: 0.8385\n",
      "Epoch 42/100\n",
      "8000/8000 [==============================] - 1s 74us/step - loss: 0.3923 - acc: 0.8391\n",
      "Epoch 43/100\n",
      "8000/8000 [==============================] - 1s 85us/step - loss: 0.3918 - acc: 0.8397\n",
      "Epoch 44/100\n",
      "8000/8000 [==============================] - 1s 103us/step - loss: 0.3910 - acc: 0.8401\n",
      "Epoch 45/100\n",
      "8000/8000 [==============================] - 1s 74us/step - loss: 0.3899 - acc: 0.8400\n",
      "Epoch 46/100\n",
      "8000/8000 [==============================] - 1s 75us/step - loss: 0.3885 - acc: 0.8404\n",
      "Epoch 47/100\n",
      "8000/8000 [==============================] - 1s 74us/step - loss: 0.3873 - acc: 0.8372\n",
      "Epoch 48/100\n",
      "8000/8000 [==============================] - 1s 80us/step - loss: 0.3859 - acc: 0.8387\n",
      "Epoch 49/100\n",
      "8000/8000 [==============================] - 1s 77us/step - loss: 0.3817 - acc: 0.8381\n",
      "Epoch 50/100\n",
      "8000/8000 [==============================] - 1s 76us/step - loss: 0.3788 - acc: 0.8376\n",
      "Epoch 51/100\n",
      "8000/8000 [==============================] - 1s 76us/step - loss: 0.3749 - acc: 0.8386\n",
      "Epoch 52/100\n",
      "8000/8000 [==============================] - 1s 77us/step - loss: 0.3704 - acc: 0.8425\n",
      "Epoch 53/100\n",
      "8000/8000 [==============================] - 1s 84us/step - loss: 0.3667 - acc: 0.8436\n",
      "Epoch 54/100\n",
      "8000/8000 [==============================] - 1s 81us/step - loss: 0.3642 - acc: 0.8486\n",
      "Epoch 55/100\n",
      "8000/8000 [==============================] - 1s 96us/step - loss: 0.3624 - acc: 0.8495\n",
      "Epoch 56/100\n",
      "8000/8000 [==============================] - 1s 136us/step - loss: 0.3600 - acc: 0.8500\n",
      "Epoch 57/100\n",
      "8000/8000 [==============================] - 1s 108us/step - loss: 0.3576 - acc: 0.8565\n",
      "Epoch 58/100\n",
      "8000/8000 [==============================] - 1s 110us/step - loss: 0.3563 - acc: 0.8584\n",
      "Epoch 59/100\n",
      "8000/8000 [==============================] - 1s 128us/step - loss: 0.3546 - acc: 0.8587\n",
      "Epoch 60/100\n",
      "8000/8000 [==============================] - 1s 133us/step - loss: 0.3533 - acc: 0.8597\n",
      "Epoch 61/100\n",
      "8000/8000 [==============================] - 1s 80us/step - loss: 0.3532 - acc: 0.8606\n",
      "Epoch 62/100\n",
      "8000/8000 [==============================] - 1s 79us/step - loss: 0.3515 - acc: 0.8601\n",
      "Epoch 63/100\n",
      "8000/8000 [==============================] - 1s 84us/step - loss: 0.3509 - acc: 0.8627\n",
      "Epoch 64/100\n",
      "8000/8000 [==============================] - 1s 90us/step - loss: 0.3510 - acc: 0.8594\n",
      "Epoch 65/100\n",
      "8000/8000 [==============================] - 1s 91us/step - loss: 0.3497 - acc: 0.8605\n",
      "Epoch 66/100\n",
      "8000/8000 [==============================] - 1s 78us/step - loss: 0.3493 - acc: 0.8614\n",
      "Epoch 67/100\n",
      "8000/8000 [==============================] - 1s 81us/step - loss: 0.3488 - acc: 0.8602\n",
      "Epoch 68/100\n",
      "8000/8000 [==============================] - 1s 77us/step - loss: 0.3483 - acc: 0.8611\n",
      "Epoch 69/100\n",
      "8000/8000 [==============================] - 1s 75us/step - loss: 0.3486 - acc: 0.8622\n",
      "Epoch 70/100\n",
      "8000/8000 [==============================] - 1s 90us/step - loss: 0.3480 - acc: 0.8606\n",
      "Epoch 71/100\n",
      "8000/8000 [==============================] - 1s 77us/step - loss: 0.3477 - acc: 0.8595\n",
      "Epoch 72/100\n",
      "8000/8000 [==============================] - 1s 76us/step - loss: 0.3471 - acc: 0.8606\n",
      "Epoch 73/100\n",
      "8000/8000 [==============================] - 1s 80us/step - loss: 0.3473 - acc: 0.8616\n",
      "Epoch 74/100\n",
      "8000/8000 [==============================] - 1s 96us/step - loss: 0.3460 - acc: 0.8619\n",
      "Epoch 75/100\n",
      "8000/8000 [==============================] - 1s 96us/step - loss: 0.3465 - acc: 0.8607\n",
      "Epoch 76/100\n",
      "8000/8000 [==============================] - 1s 80us/step - loss: 0.3462 - acc: 0.8621\n",
      "Epoch 77/100\n",
      "8000/8000 [==============================] - 1s 92us/step - loss: 0.3462 - acc: 0.8607\n",
      "Epoch 78/100\n",
      "8000/8000 [==============================] - 1s 77us/step - loss: 0.3459 - acc: 0.8582\n",
      "Epoch 79/100\n",
      "8000/8000 [==============================] - 1s 74us/step - loss: 0.3452 - acc: 0.8629\n",
      "Epoch 80/100\n",
      "8000/8000 [==============================] - 1s 80us/step - loss: 0.3449 - acc: 0.8630\n",
      "Epoch 81/100\n",
      "8000/8000 [==============================] - 1s 81us/step - loss: 0.3454 - acc: 0.8621\n",
      "Epoch 82/100\n",
      "8000/8000 [==============================] - 1s 75us/step - loss: 0.3448 - acc: 0.8597\n",
      "Epoch 83/100\n",
      "8000/8000 [==============================] - 1s 75us/step - loss: 0.3450 - acc: 0.8604\n",
      "Epoch 84/100\n",
      "8000/8000 [==============================] - 1s 77us/step - loss: 0.3446 - acc: 0.8626\n",
      "Epoch 85/100\n",
      "8000/8000 [==============================] - 1s 78us/step - loss: 0.3437 - acc: 0.8607\n",
      "Epoch 86/100\n",
      "8000/8000 [==============================] - 1s 93us/step - loss: 0.3444 - acc: 0.8611\n",
      "Epoch 87/100\n",
      "8000/8000 [==============================] - 1s 75us/step - loss: 0.3436 - acc: 0.8617\n",
      "Epoch 88/100\n",
      "8000/8000 [==============================] - 1s 92us/step - loss: 0.3442 - acc: 0.8616\n",
      "Epoch 89/100\n",
      "8000/8000 [==============================] - 1s 75us/step - loss: 0.3430 - acc: 0.8640\n",
      "Epoch 90/100\n",
      "8000/8000 [==============================] - 1s 85us/step - loss: 0.3439 - acc: 0.8612\n",
      "Epoch 91/100\n",
      "8000/8000 [==============================] - 1s 87us/step - loss: 0.3437 - acc: 0.8625\n",
      "Epoch 92/100\n",
      "8000/8000 [==============================] - 1s 78us/step - loss: 0.3426 - acc: 0.8614\n",
      "Epoch 93/100\n",
      "8000/8000 [==============================] - 1s 131us/step - loss: 0.3429 - acc: 0.8610\n",
      "Epoch 94/100\n",
      "8000/8000 [==============================] - 1s 168us/step - loss: 0.3434 - acc: 0.8611\n",
      "Epoch 95/100\n",
      "8000/8000 [==============================] - 1s 113us/step - loss: 0.3426 - acc: 0.8626\n",
      "Epoch 96/100\n",
      "8000/8000 [==============================] - 1s 95us/step - loss: 0.3429 - acc: 0.8601\n",
      "Epoch 97/100\n",
      "8000/8000 [==============================] - 1s 99us/step - loss: 0.3420 - acc: 0.8621\n",
      "Epoch 98/100\n",
      "8000/8000 [==============================] - 1s 79us/step - loss: 0.3425 - acc: 0.8611\n",
      "Epoch 99/100\n",
      "8000/8000 [==============================] - 1s 80us/step - loss: 0.3422 - acc: 0.8630\n",
      "Epoch 100/100\n",
      "8000/8000 [==============================] - 1s 79us/step - loss: 0.3419 - acc: 0.8612\n"
     ]
    },
    {
     "data": {
      "text/plain": [
       "<keras.callbacks.History at 0x7f3ad2723940>"
      ]
     },
     "execution_count": 25,
     "metadata": {},
     "output_type": "execute_result"
    }
   ],
   "source": [
    "# Fitting the ANN to the Training set\n",
    "classifier.fit(X_train, y_train, batch_size = 10, epochs = 100)"
   ]
  },
  {
   "cell_type": "code",
   "execution_count": 26,
   "metadata": {
    "collapsed": true
   },
   "outputs": [],
   "source": [
    "# Predicting the Test set results\n",
    "y_pred = classifier.predict(X_test)\n",
    "y_pred = (y_pred > 0.5)"
   ]
  },
  {
   "cell_type": "code",
   "execution_count": 27,
   "metadata": {
    "collapsed": true
   },
   "outputs": [],
   "source": [
    "# Making the Confusion Matrix\n",
    "from sklearn.metrics import confusion_matrix\n",
    "cm = confusion_matrix(y_test, y_pred)"
   ]
  },
  {
   "cell_type": "code",
   "execution_count": 28,
   "metadata": {},
   "outputs": [
    {
     "name": "stdout",
     "output_type": "stream",
     "text": [
      "[[1525   70]\n",
      " [ 203  202]]\n"
     ]
    }
   ],
   "source": [
    "print (cm)"
   ]
  },
  {
   "cell_type": "code",
   "execution_count": 29,
   "metadata": {
    "scrolled": true
   },
   "outputs": [
    {
     "name": "stdout",
     "output_type": "stream",
     "text": [
      "             precision    recall  f1-score   support\n",
      "\n",
      "          0       0.88      0.96      0.92      1595\n",
      "          1       0.74      0.50      0.60       405\n",
      "\n",
      "avg / total       0.85      0.86      0.85      2000\n",
      "\n"
     ]
    }
   ],
   "source": [
    "from sklearn.metrics import classification_report\n",
    "print(classification_report(y_test, y_pred))"
   ]
  },
  {
   "cell_type": "code",
   "execution_count": 30,
   "metadata": {
    "collapsed": true
   },
   "outputs": [],
   "source": [
    "from sklearn.decomposition import PCA\n",
    "pca = PCA(n_components=2)\n",
    "X_pca = pca.fit_transform(X_train)"
   ]
  },
  {
   "cell_type": "code",
   "execution_count": 31,
   "metadata": {},
   "outputs": [
    {
     "data": {
      "text/plain": [
       "array([[ 2.0518478 ,  0.60570437],\n",
       "       [-1.56368114, -0.55007194],\n",
       "       [-0.5326157 , -0.06866931],\n",
       "       ...,\n",
       "       [-0.48768333,  0.59445388],\n",
       "       [ 2.10582722,  0.27929122],\n",
       "       [-2.0070203 ,  0.29731549]])"
      ]
     },
     "execution_count": 31,
     "metadata": {},
     "output_type": "execute_result"
    }
   ],
   "source": [
    "X_pca"
   ]
  },
  {
   "cell_type": "code",
   "execution_count": 32,
   "metadata": {
    "collapsed": true
   },
   "outputs": [],
   "source": [
    "pca_df = pd.DataFrame(data=X_pca, columns=[\"pca 1\", \"pca 2\"])\n",
    "pca_df[\"pred\"] = y_train"
   ]
  },
  {
   "cell_type": "markdown",
   "metadata": {},
   "source": [
    "## Evaluation"
   ]
  },
  {
   "cell_type": "markdown",
   "metadata": {},
   "source": [
    "Here there's a close competition but Support Vector Machines win with the Precision = 0.86, Recall =0.86 and F1-score = 0.85."
   ]
  }
 ],
 "metadata": {
  "kernelspec": {
   "display_name": "Python 3",
   "language": "python",
   "name": "python3"
  },
  "language_info": {
   "codemirror_mode": {
    "name": "ipython",
    "version": 3
   },
   "file_extension": ".py",
   "mimetype": "text/x-python",
   "name": "python",
   "nbconvert_exporter": "python",
   "pygments_lexer": "ipython3",
   "version": "3.5.2"
  }
 },
 "nbformat": 4,
 "nbformat_minor": 2
}
